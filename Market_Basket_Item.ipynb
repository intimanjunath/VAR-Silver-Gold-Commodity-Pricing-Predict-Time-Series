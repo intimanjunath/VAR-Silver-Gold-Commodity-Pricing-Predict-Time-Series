{
  "nbformat": 4,
  "nbformat_minor": 0,
  "metadata": {
    "colab": {
      "provenance": [],
      "authorship_tag": "ABX9TyPKyH4EJ9pFP97P2g1SbK3A",
      "include_colab_link": true
    },
    "kernelspec": {
      "name": "python3",
      "display_name": "Python 3"
    },
    "language_info": {
      "name": "python"
    }
  },
  "cells": [
    {
      "cell_type": "markdown",
      "metadata": {
        "id": "view-in-github",
        "colab_type": "text"
      },
      "source": [
        "<a href=\"https://colab.research.google.com/github/intimanjunath/VAR-Silver-Gold-Commodity-Pricing-Predict-Time-Series/blob/main/Market_Basket_Item.ipynb\" target=\"_parent\"><img src=\"https://colab.research.google.com/assets/colab-badge.svg\" alt=\"Open In Colab\"/></a>"
      ]
    },
    {
      "cell_type": "code",
      "source": [
        "!pip install apyori"
      ],
      "metadata": {
        "colab": {
          "base_uri": "https://localhost:8080/"
        },
        "id": "lMnwPm-rNtSo",
        "outputId": "1a619d33-6993-42bd-fca3-43ff95e0ee7a"
      },
      "execution_count": null,
      "outputs": [
        {
          "output_type": "stream",
          "name": "stdout",
          "text": [
            "Collecting apyori\n",
            "  Downloading apyori-1.1.2.tar.gz (8.6 kB)\n",
            "  Preparing metadata (setup.py) ... \u001b[?25l\u001b[?25hdone\n",
            "Building wheels for collected packages: apyori\n",
            "  Building wheel for apyori (setup.py) ... \u001b[?25l\u001b[?25hdone\n",
            "  Created wheel for apyori: filename=apyori-1.1.2-py3-none-any.whl size=5954 sha256=d56a380c0e3c5c2ae61eb6c63653261e9aabca558ae2d13e080c7d1308681d24\n",
            "  Stored in directory: /root/.cache/pip/wheels/c4/1a/79/20f55c470a50bb3702a8cb7c94d8ada15573538c7f4baebe2d\n",
            "Successfully built apyori\n",
            "Installing collected packages: apyori\n",
            "Successfully installed apyori-1.1.2\n"
          ]
        }
      ]
    },
    {
      "cell_type": "code",
      "source": [
        "# Step 1: Load the training dataset\n",
        "train_data = pd.read_csv('/content/TRAIN-ARULES.csv')\n",
        "print(\"Training Data Preview:\")\n",
        "print(train_data.head())"
      ],
      "metadata": {
        "colab": {
          "base_uri": "https://localhost:8080/"
        },
        "id": "tA0tIAmqQFQE",
        "outputId": "7843c16b-7e6b-4243-d789-b42363b34bbe"
      },
      "execution_count": 25,
      "outputs": [
        {
          "output_type": "stream",
          "name": "stdout",
          "text": [
            "Training Data Preview:\n",
            "   order_id  user_id                              product_name\n",
            "0      1483       90  Organic Pink Lemonade Bunny Fruit Snacks\n",
            "1      1483       90                      Dark Chocolate Minis\n",
            "2      1483       90   Sparkling Water, Natural Mango Essenced\n",
            "3      1483       90                Peach-Pear Sparkling Water\n",
            "4      1483       90            Organic Heritage Flakes Cereal\n"
          ]
        }
      ]
    },
    {
      "cell_type": "code",
      "source": [
        "# Group product names by order_id to form transactions\n",
        "train_transactions = train_data.groupby('order_id')['product_name'].apply(list).tolist()"
      ],
      "metadata": {
        "id": "T38zQ7rlQInZ"
      },
      "execution_count": 26,
      "outputs": []
    },
    {
      "cell_type": "code",
      "source": [
        "# Step 2: Apply Apriori algorithm on the training data\n",
        "association_rules = apriori(\n",
        "    train_transactions,\n",
        "    min_support=0.0045,  # Minimum support\n",
        "    min_confidence=0.2,  # Minimum confidence\n",
        "    min_lift=3,          # Minimum lift\n",
        "    min_length=2         # Minimum length of the rule\n",
        ")"
      ],
      "metadata": {
        "id": "EsOEsT8uQKY4"
      },
      "execution_count": 28,
      "outputs": []
    },
    {
      "cell_type": "code",
      "source": [
        "# Convert the rules into a list for processing\n",
        "rules = list(association_rules)\n",
        "print(f\"Number of rules generated: {len(rules)}\")"
      ],
      "metadata": {
        "colab": {
          "base_uri": "https://localhost:8080/"
        },
        "id": "u0oUKoMnQMPL",
        "outputId": "5a6ef549-977f-4448-f42a-ea938eef9f5c"
      },
      "execution_count": 29,
      "outputs": [
        {
          "output_type": "stream",
          "name": "stdout",
          "text": [
            "Number of rules generated: 987\n"
          ]
        }
      ]
    },
    {
      "cell_type": "code",
      "source": [
        "# Step 3: Extract and summarize rules\n",
        "rules_summary = []\n",
        "for rule in rules:\n",
        "    for ordered_stat in rule.ordered_statistics:\n",
        "        if len(ordered_stat.items_base) > 0 and len(ordered_stat.items_add) > 0:\n",
        "            rules_summary.append({\n",
        "                'Base Items': tuple(ordered_stat.items_base),\n",
        "                'Add Items': tuple(ordered_stat.items_add),\n",
        "                'Support': rule.support,\n",
        "                'Confidence': ordered_stat.confidence,\n",
        "                'Lift': ordered_stat.lift\n",
        "            })\n",
        "\n",
        "# Convert rules summary to a DataFrame\n",
        "rules_df = pd.DataFrame(rules_summary)\n",
        "rules_df = rules_df.sort_values(by='Lift', ascending=False)\n",
        "print(\"\\nTop 5 Association Rules:\")\n",
        "print(rules_df.head())"
      ],
      "metadata": {
        "colab": {
          "base_uri": "https://localhost:8080/"
        },
        "id": "ZLVr2tqdQOF2",
        "outputId": "701ceef4-294d-4d28-aa42-45ad6765a027"
      },
      "execution_count": 30,
      "outputs": [
        {
          "output_type": "stream",
          "name": "stdout",
          "text": [
            "\n",
            "Top 5 Association Rules:\n",
            "                                             Base Items  \\\n",
            "198                   (Chocolate Peppermint Stick Bar,)   \n",
            "199                           (Imported Mineral Water,)   \n",
            "2172  (Light and Lean Quinoa Black Beans with Butter...   \n",
            "979         (Strawberry Preserves, Antimo Caputo Flour)   \n",
            "976                 (Hazelnut Bite Size Wafer Cookies,)   \n",
            "\n",
            "                                              Add Items   Support  Confidence  \\\n",
            "198                           (Imported Mineral Water,)  0.004937       1.000   \n",
            "199                   (Chocolate Peppermint Stick Bar,)  0.004937       1.000   \n",
            "2172  (Organic Strawberry Chia Lowfat 2% Cottage Che...  0.004937       1.000   \n",
            "979                 (Hazelnut Bite Size Wafer Cookies,)  0.004937       1.000   \n",
            "976         (Strawberry Preserves, Antimo Caputo Flour)  0.004937       0.875   \n",
            "\n",
            "            Lift  \n",
            "198   202.571429  \n",
            "199   202.571429  \n",
            "2172  177.250000  \n",
            "979   177.250000  \n",
            "976   177.250000  \n"
          ]
        }
      ]
    },
    {
      "cell_type": "code",
      "source": [
        "# Step 4: Load the test dataset\n",
        "test_data = pd.read_csv('/content/testarules.csv')\n",
        "print(\"\\nTest Data Preview:\")\n",
        "print(test_data.head())"
      ],
      "metadata": {
        "colab": {
          "base_uri": "https://localhost:8080/"
        },
        "id": "zME0SJgJQufH",
        "outputId": "fab7381b-8ab9-435b-ed66-58eb89e1352f"
      },
      "execution_count": 31,
      "outputs": [
        {
          "output_type": "stream",
          "name": "stdout",
          "text": [
            "\n",
            "Test Data Preview:\n",
            "                  Item1                                     Item2  \\\n",
            "0  Dark Chocolate Minis  Organic Pink Lemonade Bunny Fruit Snacks   \n",
            "\n",
            "                        Item3  Item4  Item5  \n",
            "0  Peach-Pear Sparkling Water    NaN    NaN  \n"
          ]
        }
      ]
    },
    {
      "cell_type": "code",
      "source": [
        "# Transform the test dataset into a list of transactions\n",
        "test_transactions = []\n",
        "for index, row in test_data.iterrows():\n",
        "    transaction = [str(item) for item in row if pd.notnull(item)]\n",
        "    test_transactions.append(transaction)\n",
        "\n",
        "print(\"\\nTransformed Test Transactions:\")\n",
        "print(test_transactions[:5])"
      ],
      "metadata": {
        "colab": {
          "base_uri": "https://localhost:8080/"
        },
        "id": "qjBGvibpQzGP",
        "outputId": "ddd7f927-87a1-4dff-d0d1-81d10d351f55"
      },
      "execution_count": 33,
      "outputs": [
        {
          "output_type": "stream",
          "name": "stdout",
          "text": [
            "\n",
            "Transformed Test Transactions:\n",
            "[['Dark Chocolate Minis', 'Organic Pink Lemonade Bunny Fruit Snacks', 'Peach-Pear Sparkling Water']]\n"
          ]
        }
      ]
    },
    {
      "cell_type": "code",
      "source": [
        "# Step 5: Predict next items for test transactions\n",
        "predictions = []\n",
        "for transaction in test_transactions:\n",
        "    transaction_set = set(transaction)\n",
        "    predicted_items = set()\n",
        "\n",
        "    for _, rule in rules_df.iterrows():\n",
        "        base_items = set(rule['Base Items'])\n",
        "        add_items = set(rule['Add Items'])\n",
        "\n",
        "        # Check if base items match the transaction\n",
        "        if base_items.issubset(transaction_set):\n",
        "            predicted_items.update(add_items - transaction_set)  # Exclude already present items\n",
        "\n",
        "    predictions.append(list(predicted_items))"
      ],
      "metadata": {
        "id": "W7I4jrkQQ3dj"
      },
      "execution_count": 34,
      "outputs": []
    },
    {
      "cell_type": "code",
      "source": [
        "# Step 6: Display predictions\n",
        "print(\"\\nPredictions for Test Data:\")\n",
        "for i, (original, prediction) in enumerate(zip(test_transactions, predictions)):\n",
        "    print(f\"Transaction {i + 1}: Original: {original} -> Prediction: {prediction}\")"
      ],
      "metadata": {
        "colab": {
          "base_uri": "https://localhost:8080/"
        },
        "id": "qKHtnu9SQ6LJ",
        "outputId": "fdb3c07b-6957-4989-b5fa-d2aba382122f"
      },
      "execution_count": 35,
      "outputs": [
        {
          "output_type": "stream",
          "name": "stdout",
          "text": [
            "\n",
            "Predictions for Test Data:\n",
            "Transaction 1: Original: ['Dark Chocolate Minis', 'Organic Pink Lemonade Bunny Fruit Snacks', 'Peach-Pear Sparkling Water'] -> Prediction: ['Orange Sparkling Water', 'Sparkling Water, Natural Mango Essenced', 'Crunch White Chocolate Macadamia Nut Granola Bars', 'Organic Graham Crunch Cereal', 'Unsweetened Original Almond Breeze Almond Milk', \"Organic Bernie's Farm Fruit Snacks strawberry, raspberry, & orange\", 'Organic Heritage Flakes Cereal', 'Dark & Mint Filled Chocolate Squares', 'Twilight Delight 72% Cacao Intense Dark Squares', 'Maple Pumpkin Seeds with Sea Salt Chewy with a Crunch Granola Bars', 'Crunch Chocolate Peanut Butter Granola Bar', 'Crunch Granola Bar Chocolate Chip', 'Crunchy Coconut Granola Bars', 'Lemon Sparkling Water', 'Trail Mix Fruit & Nut Chewy Granola Bars', 'Healthy Grains Granola Bar, Vanilla Blueberry']\n"
          ]
        }
      ]
    },
    {
      "cell_type": "code",
      "source": [
        "# Step 6: Display predictions\n",
        "print(\"\\nPredictions for Test Data:\")\n",
        "\n",
        "for i, (original, prediction) in enumerate(zip(test_transactions, predictions)):\n",
        "    print(f\"Transaction {i + 1}:\")\n",
        "    print(\"  Original Items:\")\n",
        "    for item in original:\n",
        "        print(f\"    - {item}\")\n",
        "    print(\"  Predicted Items:\")\n",
        "    if prediction:\n",
        "        for item in prediction:\n",
        "            print(f\"    - {item}\")\n",
        "    else:\n",
        "        print(\"    (No predictions available)\")\n",
        "    print(\"-\" * 50)  # Separator for readability"
      ],
      "metadata": {
        "colab": {
          "base_uri": "https://localhost:8080/"
        },
        "id": "FTW0WGD0Rpcm",
        "outputId": "50a5e1cc-9c0c-4077-f274-3604f1d60565"
      },
      "execution_count": 37,
      "outputs": [
        {
          "output_type": "stream",
          "name": "stdout",
          "text": [
            "\n",
            "Predictions for Test Data:\n",
            "Transaction 1:\n",
            "  Original Items:\n",
            "    - Dark Chocolate Minis\n",
            "    - Organic Pink Lemonade Bunny Fruit Snacks\n",
            "    - Peach-Pear Sparkling Water\n",
            "  Predicted Items:\n",
            "    - Orange Sparkling Water\n",
            "    - Sparkling Water, Natural Mango Essenced\n",
            "    - Crunch White Chocolate Macadamia Nut Granola Bars\n",
            "    - Organic Graham Crunch Cereal\n",
            "    - Unsweetened Original Almond Breeze Almond Milk\n",
            "    - Organic Bernie's Farm Fruit Snacks strawberry, raspberry, & orange\n",
            "    - Organic Heritage Flakes Cereal\n",
            "    - Dark & Mint Filled Chocolate Squares\n",
            "    - Twilight Delight 72% Cacao Intense Dark Squares\n",
            "    - Maple Pumpkin Seeds with Sea Salt Chewy with a Crunch Granola Bars\n",
            "    - Crunch Chocolate Peanut Butter Granola Bar\n",
            "    - Crunch Granola Bar Chocolate Chip\n",
            "    - Crunchy Coconut Granola Bars\n",
            "    - Lemon Sparkling Water\n",
            "    - Trail Mix Fruit & Nut Chewy Granola Bars\n",
            "    - Healthy Grains Granola Bar, Vanilla Blueberry\n",
            "--------------------------------------------------\n"
          ]
        }
      ]
    }
  ]
}